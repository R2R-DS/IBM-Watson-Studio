{
    "cells": [
        {
            "metadata": {
                "collapsed": true
            },
            "cell_type": "markdown",
            "source": "# My Jupyter Notebook on IBM Watson Studio"
        },
        {
            "metadata": {},
            "cell_type": "markdown",
            "source": "**Artur Azimov**\n\nData Scientist"
        },
        {
            "metadata": {},
            "cell_type": "markdown",
            "source": "*I am interested in data science because it's an exciting field that combines various disciplines allowing us to analyse huge amount of data and extract useful patterns and correlation that can be afterwards applied to improve the results in differends fields of activity. Broadly speaking, data science toolkit can be applied in any industry and has an aim of optimization of working processes, maximization of profits, minimization of costs, adjusting the risks, thus improving the sector it's applied in.*"
        },
        {
            "metadata": {},
            "cell_type": "markdown",
            "source": "### This code will print the numbers from 1 to 5: ###"
        },
        {
            "metadata": {
                "scrolled": false
            },
            "cell_type": "code",
            "source": "for i in range (1,6):\n    print (i)",
            "execution_count": 4,
            "outputs": [
                {
                    "output_type": "stream",
                    "text": "1\n2\n3\n4\n5\n",
                    "name": "stdout"
                }
            ]
        },
        {
            "metadata": {},
            "cell_type": "markdown",
            "source": "Week 1 | Week 2 | Week 3 | Week 4\n--- | --- | --- | ---\n*One* | `Eight` | **Fifteen** | ~~Twenty Two~~\n*Two* | `Nine` | **Sixteen** | ~~Twenty Three~~\n*Three* | `Ten` | **Seventeen** | ~~Twenty Four~~\n*Four* | `Eleven` | **Eighteen** | ~~Twenty Five~~\n*Five* | `Twelve` | **Nineteen** | ~~Twenty Six~~\n*Six* | `Thirteen` | **Twenty** | ~~Twenty Seven~~\n*Seven* | `Fourteen` | **Twenty One** | ~~Twenty Eight~~\n"
        }
    ],
    "metadata": {
        "kernelspec": {
            "name": "python3",
            "display_name": "Python 3.10",
            "language": "python"
        },
        "language_info": {
            "name": "python",
            "version": "3.10.6",
            "mimetype": "text/x-python",
            "codemirror_mode": {
                "name": "ipython",
                "version": 3
            },
            "pygments_lexer": "ipython3",
            "nbconvert_exporter": "python",
            "file_extension": ".py"
        }
    },
    "nbformat": 4,
    "nbformat_minor": 1
}